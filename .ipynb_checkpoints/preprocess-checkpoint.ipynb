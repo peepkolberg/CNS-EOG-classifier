{
 "cells": [
  {
   "cell_type": "code",
   "execution_count": 2,
   "id": "2e0b34d4",
   "metadata": {},
   "outputs": [],
   "source": [
    "import pandas as pd\n",
    "import numpy as np\n",
    "import matplotlib.pyplot as plt\n",
    "from scipy.io import loadmat  # this is the SciPy module that loads mat-files"
   ]
  },
  {
   "cell_type": "code",
   "execution_count": 3,
   "id": "655c1620",
   "metadata": {},
   "outputs": [
    {
     "name": "stdout",
     "output_type": "stream",
     "text": [
      "        Timestamp (s)  Timestamp (us)  EOG (H)  EOG (V)  Class\n",
      "0          1237564901          530815  -291383    -4092      1\n",
      "1          1237564901          531219  -293722    -3556      1\n",
      "2          1237564901          531508  -290265    -7453      1\n",
      "3          1237564901          531832  -291749    -4898      1\n",
      "4          1237564901          642831  -292282    -2360      1\n",
      "...               ...             ...      ...      ...    ...\n",
      "213969     1237566687          890773  -437740  -496756      4\n",
      "213970     1237566687          898805  -439212  -495789      4\n",
      "213971     1237566687          906790  -438886  -496503      4\n",
      "213972     1237566687          907193  -439418  -499145      4\n",
      "213973     1237566687          922780  -436692  -498661      4\n",
      "\n",
      "[213974 rows x 5 columns]\n",
      "<class 'pandas.core.frame.DataFrame'>\n",
      "RangeIndex: 213974 entries, 0 to 213973\n",
      "Data columns (total 5 columns):\n",
      " #   Column          Non-Null Count   Dtype\n",
      "---  ------          --------------   -----\n",
      " 0   Timestamp (s)   213974 non-null  int32\n",
      " 1   Timestamp (us)  213974 non-null  int32\n",
      " 2   EOG (H)         213974 non-null  int32\n",
      " 3   EOG (V)         213974 non-null  int32\n",
      " 4   Class           213974 non-null  int32\n",
      "dtypes: int32(5)\n",
      "memory usage: 4.1 MB\n"
     ]
    }
   ],
   "source": [
    "mat = loadmat('data_raw/participant6_0.mat')\n",
    "df = pd.DataFrame(mat['data'])\n",
    "df.columns = ['Timestamp (s)', 'Timestamp (us)', 'EOG (H)', 'EOG (V)', 'Class']\n",
    "\n",
    "print(df)\n",
    "df.info()"
   ]
  }
 ],
 "metadata": {
  "kernelspec": {
   "display_name": "Python 3 (ipykernel)",
   "language": "python",
   "name": "python3"
  },
  "language_info": {
   "codemirror_mode": {
    "name": "ipython",
    "version": 3
   },
   "file_extension": ".py",
   "mimetype": "text/x-python",
   "name": "python",
   "nbconvert_exporter": "python",
   "pygments_lexer": "ipython3",
   "version": "3.9.6"
  }
 },
 "nbformat": 4,
 "nbformat_minor": 5
}
