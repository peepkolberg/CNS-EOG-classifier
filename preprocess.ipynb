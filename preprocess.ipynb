{
 "cells": [
  {
   "cell_type": "code",
   "execution_count": 37,
   "id": "655c1620",
   "metadata": {},
   "outputs": [
    {
     "name": "stdout",
     "output_type": "stream",
     "text": [
      "0         530815\n",
      "1         531219\n",
      "2         531508\n",
      "3         531832\n",
      "4         642831\n",
      "           ...  \n",
      "213969    890773\n",
      "213970    898805\n",
      "213971    906790\n",
      "213972    907193\n",
      "213973    922780\n",
      "Name: 1, Length: 213974, dtype: int32\n",
      "<class 'pandas.core.frame.DataFrame'>\n",
      "RangeIndex: 213974 entries, 0 to 213973\n",
      "Data columns (total 5 columns):\n",
      " #   Column  Non-Null Count   Dtype\n",
      "---  ------  --------------   -----\n",
      " 0   0       213974 non-null  int32\n",
      " 1   1       213974 non-null  int32\n",
      " 2   2       213974 non-null  int32\n",
      " 3   3       213974 non-null  int32\n",
      " 4   4       213974 non-null  int32\n",
      "dtypes: int32(5)\n",
      "memory usage: 4.1 MB\n"
     ]
    }
   ],
   "source": [
    "import pandas as pd\n",
    "import numpy as np\n",
    "import matplotlib.pyplot as plt\n",
    "from scipy.io import loadmat  # this is the SciPy module that loads mat-files\n",
    "\n",
    "mat = loadmat('data_raw/participant6_0.mat')\n",
    "df = pd.DataFrame(mat['data'])\n",
    "\n",
    "print(df[1])\n",
    "df.info()"
   ]
  }
 ],
 "metadata": {
  "kernelspec": {
   "display_name": "Python 3 (ipykernel)",
   "language": "python",
   "name": "python3"
  },
  "language_info": {
   "codemirror_mode": {
    "name": "ipython",
    "version": 3
   },
   "file_extension": ".py",
   "mimetype": "text/x-python",
   "name": "python",
   "nbconvert_exporter": "python",
   "pygments_lexer": "ipython3",
   "version": "3.9.6"
  }
 },
 "nbformat": 4,
 "nbformat_minor": 5
}
